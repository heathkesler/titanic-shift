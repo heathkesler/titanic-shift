{
 "cells": [
  {
   "cell_type": "markdown",
   "id": "7f15fcc5",
   "metadata": {
    "papermill": {
     "duration": 0.005451,
     "end_time": "2023-07-17T19:40:11.881083",
     "exception": false,
     "start_time": "2023-07-17T19:40:11.875632",
     "status": "completed"
    },
    "tags": []
   },
   "source": [
    "Import libraries and setup training environment"
   ]
  },
  {
   "cell_type": "code",
   "execution_count": 1,
   "id": "83563cc3",
   "metadata": {
    "_cell_guid": "b1076dfc-b9ad-4769-8c92-a6c4dae69d19",
    "_uuid": "8f2839f25d086af736a60e9eeb907d3b93b6e0e5",
    "execution": {
     "iopub.execute_input": "2023-07-17T19:40:11.893314Z",
     "iopub.status.busy": "2023-07-17T19:40:11.892297Z",
     "iopub.status.idle": "2023-07-17T19:40:11.907749Z",
     "shell.execute_reply": "2023-07-17T19:40:11.906050Z"
    },
    "papermill": {
     "duration": 0.024166,
     "end_time": "2023-07-17T19:40:11.910222",
     "exception": false,
     "start_time": "2023-07-17T19:40:11.886056",
     "status": "completed"
    },
    "tags": []
   },
   "outputs": [
    {
     "name": "stdout",
     "output_type": "stream",
     "text": [
      "/kaggle/input/titanic/train.csv\n",
      "/kaggle/input/titanic/test.csv\n",
      "/kaggle/input/titanic/gender_submission.csv\n"
     ]
    }
   ],
   "source": [
    "# This Python 3 environment comes with many helpful analytics libraries installed\n",
    "# It is defined by the kaggle/python Docker image: https://github.com/kaggle/docker-python\n",
    "# For example, here's several helpful packages to load\n",
    "\n",
    "import numpy as np # linear algebra\n",
    "import pandas as pd # data processing, CSV file I/O (e.g. pd.read_csv)\n",
    "\n",
    "# Input data files are available in the read-only \"../input/\" directory\n",
    "# For example, running this (by clicking run or pressing Shift+Enter) will list all files under the input directory\n",
    "\n",
    "import os\n",
    "for dirname, _, filenames in os.walk('/kaggle/input'):\n",
    "    for filename in filenames:\n",
    "        print(os.path.join(dirname, filename))\n",
    "\n",
    "# You can write up to 20GB to the current directory (/kaggle/working/) that gets preserved as output when you create a version using \"Save & Run All\" \n",
    "# You can also write temporary files to /kaggle/temp/, but they won't be saved outside of the current session"
   ]
  },
  {
   "cell_type": "markdown",
   "id": "a91dc942",
   "metadata": {
    "papermill": {
     "duration": 0.00451,
     "end_time": "2023-07-17T19:40:11.919739",
     "exception": false,
     "start_time": "2023-07-17T19:40:11.915229",
     "status": "completed"
    },
    "tags": []
   },
   "source": [
    "Load Data"
   ]
  },
  {
   "cell_type": "code",
   "execution_count": 2,
   "id": "dcc27e21",
   "metadata": {
    "execution": {
     "iopub.execute_input": "2023-07-17T19:40:11.931702Z",
     "iopub.status.busy": "2023-07-17T19:40:11.930547Z",
     "iopub.status.idle": "2023-07-17T19:40:11.992762Z",
     "shell.execute_reply": "2023-07-17T19:40:11.991510Z"
    },
    "papermill": {
     "duration": 0.071247,
     "end_time": "2023-07-17T19:40:11.995658",
     "exception": false,
     "start_time": "2023-07-17T19:40:11.924411",
     "status": "completed"
    },
    "tags": []
   },
   "outputs": [
    {
     "data": {
      "text/html": [
       "<div>\n",
       "<style scoped>\n",
       "    .dataframe tbody tr th:only-of-type {\n",
       "        vertical-align: middle;\n",
       "    }\n",
       "\n",
       "    .dataframe tbody tr th {\n",
       "        vertical-align: top;\n",
       "    }\n",
       "\n",
       "    .dataframe thead th {\n",
       "        text-align: right;\n",
       "    }\n",
       "</style>\n",
       "<table border=\"1\" class=\"dataframe\">\n",
       "  <thead>\n",
       "    <tr style=\"text-align: right;\">\n",
       "      <th></th>\n",
       "      <th>PassengerId</th>\n",
       "      <th>Survived</th>\n",
       "      <th>Pclass</th>\n",
       "      <th>Name</th>\n",
       "      <th>Sex</th>\n",
       "      <th>Age</th>\n",
       "      <th>SibSp</th>\n",
       "      <th>Parch</th>\n",
       "      <th>Ticket</th>\n",
       "      <th>Fare</th>\n",
       "      <th>Cabin</th>\n",
       "      <th>Embarked</th>\n",
       "    </tr>\n",
       "  </thead>\n",
       "  <tbody>\n",
       "    <tr>\n",
       "      <th>0</th>\n",
       "      <td>1</td>\n",
       "      <td>0</td>\n",
       "      <td>3</td>\n",
       "      <td>Braund, Mr. Owen Harris</td>\n",
       "      <td>male</td>\n",
       "      <td>22.0</td>\n",
       "      <td>1</td>\n",
       "      <td>0</td>\n",
       "      <td>A/5 21171</td>\n",
       "      <td>7.2500</td>\n",
       "      <td>NaN</td>\n",
       "      <td>S</td>\n",
       "    </tr>\n",
       "    <tr>\n",
       "      <th>1</th>\n",
       "      <td>2</td>\n",
       "      <td>1</td>\n",
       "      <td>1</td>\n",
       "      <td>Cumings, Mrs. John Bradley (Florence Briggs Th...</td>\n",
       "      <td>female</td>\n",
       "      <td>38.0</td>\n",
       "      <td>1</td>\n",
       "      <td>0</td>\n",
       "      <td>PC 17599</td>\n",
       "      <td>71.2833</td>\n",
       "      <td>C85</td>\n",
       "      <td>C</td>\n",
       "    </tr>\n",
       "    <tr>\n",
       "      <th>2</th>\n",
       "      <td>3</td>\n",
       "      <td>1</td>\n",
       "      <td>3</td>\n",
       "      <td>Heikkinen, Miss. Laina</td>\n",
       "      <td>female</td>\n",
       "      <td>26.0</td>\n",
       "      <td>0</td>\n",
       "      <td>0</td>\n",
       "      <td>STON/O2. 3101282</td>\n",
       "      <td>7.9250</td>\n",
       "      <td>NaN</td>\n",
       "      <td>S</td>\n",
       "    </tr>\n",
       "    <tr>\n",
       "      <th>3</th>\n",
       "      <td>4</td>\n",
       "      <td>1</td>\n",
       "      <td>1</td>\n",
       "      <td>Futrelle, Mrs. Jacques Heath (Lily May Peel)</td>\n",
       "      <td>female</td>\n",
       "      <td>35.0</td>\n",
       "      <td>1</td>\n",
       "      <td>0</td>\n",
       "      <td>113803</td>\n",
       "      <td>53.1000</td>\n",
       "      <td>C123</td>\n",
       "      <td>S</td>\n",
       "    </tr>\n",
       "    <tr>\n",
       "      <th>4</th>\n",
       "      <td>5</td>\n",
       "      <td>0</td>\n",
       "      <td>3</td>\n",
       "      <td>Allen, Mr. William Henry</td>\n",
       "      <td>male</td>\n",
       "      <td>35.0</td>\n",
       "      <td>0</td>\n",
       "      <td>0</td>\n",
       "      <td>373450</td>\n",
       "      <td>8.0500</td>\n",
       "      <td>NaN</td>\n",
       "      <td>S</td>\n",
       "    </tr>\n",
       "  </tbody>\n",
       "</table>\n",
       "</div>"
      ],
      "text/plain": [
       "   PassengerId  Survived  Pclass  \\\n",
       "0            1         0       3   \n",
       "1            2         1       1   \n",
       "2            3         1       3   \n",
       "3            4         1       1   \n",
       "4            5         0       3   \n",
       "\n",
       "                                                Name     Sex   Age  SibSp  \\\n",
       "0                            Braund, Mr. Owen Harris    male  22.0      1   \n",
       "1  Cumings, Mrs. John Bradley (Florence Briggs Th...  female  38.0      1   \n",
       "2                             Heikkinen, Miss. Laina  female  26.0      0   \n",
       "3       Futrelle, Mrs. Jacques Heath (Lily May Peel)  female  35.0      1   \n",
       "4                           Allen, Mr. William Henry    male  35.0      0   \n",
       "\n",
       "   Parch            Ticket     Fare Cabin Embarked  \n",
       "0      0         A/5 21171   7.2500   NaN        S  \n",
       "1      0          PC 17599  71.2833   C85        C  \n",
       "2      0  STON/O2. 3101282   7.9250   NaN        S  \n",
       "3      0            113803  53.1000  C123        S  \n",
       "4      0            373450   8.0500   NaN        S  "
      ]
     },
     "execution_count": 2,
     "metadata": {},
     "output_type": "execute_result"
    }
   ],
   "source": [
    "# Get data loaded into this environment for manipulation\n",
    "\n",
    "train_data = pd.read_csv(\"/kaggle/input/titanic/train.csv\")\n",
    "train_data.head()"
   ]
  },
  {
   "cell_type": "code",
   "execution_count": 3,
   "id": "d7c48549",
   "metadata": {
    "execution": {
     "iopub.execute_input": "2023-07-17T19:40:12.008383Z",
     "iopub.status.busy": "2023-07-17T19:40:12.007464Z",
     "iopub.status.idle": "2023-07-17T19:40:12.032481Z",
     "shell.execute_reply": "2023-07-17T19:40:12.031211Z"
    },
    "papermill": {
     "duration": 0.034523,
     "end_time": "2023-07-17T19:40:12.035254",
     "exception": false,
     "start_time": "2023-07-17T19:40:12.000731",
     "status": "completed"
    },
    "tags": []
   },
   "outputs": [
    {
     "name": "stdout",
     "output_type": "stream",
     "text": [
      "% of women who survived: 0.7420382165605095\n",
      "% of men who survived: 0.18890814558058924\n"
     ]
    }
   ],
   "source": [
    "test_data = pd.read_csv(\"/kaggle/input/titanic/test.csv\")\n",
    "test_data.head()\n",
    "\n",
    "women = train_data.loc[train_data.Sex == 'female'][\"Survived\"]\n",
    "rate_women = sum(women)/len(women)\n",
    "\n",
    "print(\"% of women who survived:\", rate_women)\n",
    "\n",
    "men = train_data.loc[train_data.Sex == 'male'][\"Survived\"]\n",
    "rate_men = sum(men)/len(men)\n",
    "\n",
    "print(\"% of men who survived:\", rate_men)"
   ]
  },
  {
   "cell_type": "markdown",
   "id": "50b7d0a7",
   "metadata": {
    "papermill": {
     "duration": 0.004644,
     "end_time": "2023-07-17T19:40:12.044848",
     "exception": false,
     "start_time": "2023-07-17T19:40:12.040204",
     "status": "completed"
    },
    "tags": []
   },
   "source": [
    "Preprocess Data"
   ]
  },
  {
   "cell_type": "code",
   "execution_count": 4,
   "id": "2a046a42",
   "metadata": {
    "execution": {
     "iopub.execute_input": "2023-07-17T19:40:12.059647Z",
     "iopub.status.busy": "2023-07-17T19:40:12.058453Z",
     "iopub.status.idle": "2023-07-17T19:40:12.080050Z",
     "shell.execute_reply": "2023-07-17T19:40:12.078723Z"
    },
    "papermill": {
     "duration": 0.031228,
     "end_time": "2023-07-17T19:40:12.083153",
     "exception": false,
     "start_time": "2023-07-17T19:40:12.051925",
     "status": "completed"
    },
    "tags": []
   },
   "outputs": [],
   "source": [
    "# print out dimensions of the dataset\n",
    "\n",
    "# Define Feature columns\n",
    "\n",
    "y = train_data[\"Survived\"]\n",
    "\n",
    "features = [\"Pclass\", \"Sex\", \"SibSp\", \"Parch\", \"Age\"]\n",
    "X = pd.get_dummies(train_data[features])\n",
    "X_test = pd.get_dummies(test_data[features])\n",
    "\n",
    "# Replace Nan ages with 0\n",
    "X['Age'].fillna(0, inplace=True)\n",
    "X_test['Age'].fillna(0, inplace=True)"
   ]
  },
  {
   "cell_type": "markdown",
   "id": "5f9bcf3b",
   "metadata": {
    "papermill": {
     "duration": 0.00463,
     "end_time": "2023-07-17T19:40:12.092982",
     "exception": false,
     "start_time": "2023-07-17T19:40:12.088352",
     "status": "completed"
    },
    "tags": []
   },
   "source": [
    "Preview data for verification"
   ]
  },
  {
   "cell_type": "code",
   "execution_count": 5,
   "id": "53801ecb",
   "metadata": {
    "execution": {
     "iopub.execute_input": "2023-07-17T19:40:12.105264Z",
     "iopub.status.busy": "2023-07-17T19:40:12.104797Z",
     "iopub.status.idle": "2023-07-17T19:40:12.118896Z",
     "shell.execute_reply": "2023-07-17T19:40:12.117382Z"
    },
    "papermill": {
     "duration": 0.023486,
     "end_time": "2023-07-17T19:40:12.121573",
     "exception": false,
     "start_time": "2023-07-17T19:40:12.098087",
     "status": "completed"
    },
    "tags": []
   },
   "outputs": [
    {
     "data": {
      "text/html": [
       "<div>\n",
       "<style scoped>\n",
       "    .dataframe tbody tr th:only-of-type {\n",
       "        vertical-align: middle;\n",
       "    }\n",
       "\n",
       "    .dataframe tbody tr th {\n",
       "        vertical-align: top;\n",
       "    }\n",
       "\n",
       "    .dataframe thead th {\n",
       "        text-align: right;\n",
       "    }\n",
       "</style>\n",
       "<table border=\"1\" class=\"dataframe\">\n",
       "  <thead>\n",
       "    <tr style=\"text-align: right;\">\n",
       "      <th></th>\n",
       "      <th>Pclass</th>\n",
       "      <th>SibSp</th>\n",
       "      <th>Parch</th>\n",
       "      <th>Age</th>\n",
       "      <th>Sex_female</th>\n",
       "      <th>Sex_male</th>\n",
       "    </tr>\n",
       "  </thead>\n",
       "  <tbody>\n",
       "    <tr>\n",
       "      <th>0</th>\n",
       "      <td>3</td>\n",
       "      <td>1</td>\n",
       "      <td>0</td>\n",
       "      <td>22.0</td>\n",
       "      <td>0</td>\n",
       "      <td>1</td>\n",
       "    </tr>\n",
       "    <tr>\n",
       "      <th>1</th>\n",
       "      <td>1</td>\n",
       "      <td>1</td>\n",
       "      <td>0</td>\n",
       "      <td>38.0</td>\n",
       "      <td>1</td>\n",
       "      <td>0</td>\n",
       "    </tr>\n",
       "    <tr>\n",
       "      <th>2</th>\n",
       "      <td>3</td>\n",
       "      <td>0</td>\n",
       "      <td>0</td>\n",
       "      <td>26.0</td>\n",
       "      <td>1</td>\n",
       "      <td>0</td>\n",
       "    </tr>\n",
       "    <tr>\n",
       "      <th>3</th>\n",
       "      <td>1</td>\n",
       "      <td>1</td>\n",
       "      <td>0</td>\n",
       "      <td>35.0</td>\n",
       "      <td>1</td>\n",
       "      <td>0</td>\n",
       "    </tr>\n",
       "    <tr>\n",
       "      <th>4</th>\n",
       "      <td>3</td>\n",
       "      <td>0</td>\n",
       "      <td>0</td>\n",
       "      <td>35.0</td>\n",
       "      <td>0</td>\n",
       "      <td>1</td>\n",
       "    </tr>\n",
       "  </tbody>\n",
       "</table>\n",
       "</div>"
      ],
      "text/plain": [
       "   Pclass  SibSp  Parch   Age  Sex_female  Sex_male\n",
       "0       3      1      0  22.0           0         1\n",
       "1       1      1      0  38.0           1         0\n",
       "2       3      0      0  26.0           1         0\n",
       "3       1      1      0  35.0           1         0\n",
       "4       3      0      0  35.0           0         1"
      ]
     },
     "execution_count": 5,
     "metadata": {},
     "output_type": "execute_result"
    }
   ],
   "source": [
    "# print out datasets to ensure valid/expected feature data in both training and test sets\n",
    "X.head()"
   ]
  },
  {
   "cell_type": "code",
   "execution_count": 6,
   "id": "fe8facdd",
   "metadata": {
    "execution": {
     "iopub.execute_input": "2023-07-17T19:40:12.134374Z",
     "iopub.status.busy": "2023-07-17T19:40:12.133838Z",
     "iopub.status.idle": "2023-07-17T19:40:12.148055Z",
     "shell.execute_reply": "2023-07-17T19:40:12.146575Z"
    },
    "papermill": {
     "duration": 0.023893,
     "end_time": "2023-07-17T19:40:12.150800",
     "exception": false,
     "start_time": "2023-07-17T19:40:12.126907",
     "status": "completed"
    },
    "tags": []
   },
   "outputs": [
    {
     "data": {
      "text/html": [
       "<div>\n",
       "<style scoped>\n",
       "    .dataframe tbody tr th:only-of-type {\n",
       "        vertical-align: middle;\n",
       "    }\n",
       "\n",
       "    .dataframe tbody tr th {\n",
       "        vertical-align: top;\n",
       "    }\n",
       "\n",
       "    .dataframe thead th {\n",
       "        text-align: right;\n",
       "    }\n",
       "</style>\n",
       "<table border=\"1\" class=\"dataframe\">\n",
       "  <thead>\n",
       "    <tr style=\"text-align: right;\">\n",
       "      <th></th>\n",
       "      <th>Pclass</th>\n",
       "      <th>SibSp</th>\n",
       "      <th>Parch</th>\n",
       "      <th>Age</th>\n",
       "      <th>Sex_female</th>\n",
       "      <th>Sex_male</th>\n",
       "    </tr>\n",
       "  </thead>\n",
       "  <tbody>\n",
       "    <tr>\n",
       "      <th>0</th>\n",
       "      <td>3</td>\n",
       "      <td>0</td>\n",
       "      <td>0</td>\n",
       "      <td>34.5</td>\n",
       "      <td>0</td>\n",
       "      <td>1</td>\n",
       "    </tr>\n",
       "    <tr>\n",
       "      <th>1</th>\n",
       "      <td>3</td>\n",
       "      <td>1</td>\n",
       "      <td>0</td>\n",
       "      <td>47.0</td>\n",
       "      <td>1</td>\n",
       "      <td>0</td>\n",
       "    </tr>\n",
       "    <tr>\n",
       "      <th>2</th>\n",
       "      <td>2</td>\n",
       "      <td>0</td>\n",
       "      <td>0</td>\n",
       "      <td>62.0</td>\n",
       "      <td>0</td>\n",
       "      <td>1</td>\n",
       "    </tr>\n",
       "    <tr>\n",
       "      <th>3</th>\n",
       "      <td>3</td>\n",
       "      <td>0</td>\n",
       "      <td>0</td>\n",
       "      <td>27.0</td>\n",
       "      <td>0</td>\n",
       "      <td>1</td>\n",
       "    </tr>\n",
       "    <tr>\n",
       "      <th>4</th>\n",
       "      <td>3</td>\n",
       "      <td>1</td>\n",
       "      <td>1</td>\n",
       "      <td>22.0</td>\n",
       "      <td>1</td>\n",
       "      <td>0</td>\n",
       "    </tr>\n",
       "  </tbody>\n",
       "</table>\n",
       "</div>"
      ],
      "text/plain": [
       "   Pclass  SibSp  Parch   Age  Sex_female  Sex_male\n",
       "0       3      0      0  34.5           0         1\n",
       "1       3      1      0  47.0           1         0\n",
       "2       2      0      0  62.0           0         1\n",
       "3       3      0      0  27.0           0         1\n",
       "4       3      1      1  22.0           1         0"
      ]
     },
     "execution_count": 6,
     "metadata": {},
     "output_type": "execute_result"
    }
   ],
   "source": [
    "X_test.head()"
   ]
  },
  {
   "cell_type": "code",
   "execution_count": 7,
   "id": "663868b7",
   "metadata": {
    "execution": {
     "iopub.execute_input": "2023-07-17T19:40:12.164546Z",
     "iopub.status.busy": "2023-07-17T19:40:12.164067Z",
     "iopub.status.idle": "2023-07-17T19:40:12.171618Z",
     "shell.execute_reply": "2023-07-17T19:40:12.170538Z"
    },
    "papermill": {
     "duration": 0.017473,
     "end_time": "2023-07-17T19:40:12.174075",
     "exception": false,
     "start_time": "2023-07-17T19:40:12.156602",
     "status": "completed"
    },
    "tags": []
   },
   "outputs": [
    {
     "data": {
      "text/plain": [
       "0    0\n",
       "1    1\n",
       "2    1\n",
       "3    1\n",
       "4    0\n",
       "Name: Survived, dtype: int64"
      ]
     },
     "execution_count": 7,
     "metadata": {},
     "output_type": "execute_result"
    }
   ],
   "source": [
    "y.head()"
   ]
  },
  {
   "cell_type": "markdown",
   "id": "a90f50d6",
   "metadata": {
    "papermill": {
     "duration": 0.005143,
     "end_time": "2023-07-17T19:40:12.184756",
     "exception": false,
     "start_time": "2023-07-17T19:40:12.179613",
     "status": "completed"
    },
    "tags": []
   },
   "source": [
    "Design Neural Network"
   ]
  },
  {
   "cell_type": "code",
   "execution_count": 8,
   "id": "df53eb52",
   "metadata": {
    "execution": {
     "iopub.execute_input": "2023-07-17T19:40:12.198388Z",
     "iopub.status.busy": "2023-07-17T19:40:12.197617Z",
     "iopub.status.idle": "2023-07-17T19:40:13.930336Z",
     "shell.execute_reply": "2023-07-17T19:40:13.929261Z"
    },
    "papermill": {
     "duration": 1.742933,
     "end_time": "2023-07-17T19:40:13.933226",
     "exception": false,
     "start_time": "2023-07-17T19:40:12.190293",
     "status": "completed"
    },
    "tags": []
   },
   "outputs": [
    {
     "name": "stderr",
     "output_type": "stream",
     "text": [
      "/opt/conda/lib/python3.10/site-packages/scipy/__init__.py:146: UserWarning: A NumPy version >=1.16.5 and <1.23.0 is required for this version of SciPy (detected version 1.23.5\n",
      "  warnings.warn(f\"A NumPy version >={np_minversion} and <{np_maxversion}\"\n"
     ]
    }
   ],
   "source": [
    "# Create model\n",
    "from sklearn.ensemble import RandomForestClassifier\n",
    "model = RandomForestClassifier(n_estimators=100, max_depth=5, random_state=1)"
   ]
  },
  {
   "cell_type": "markdown",
   "id": "1c124ac1",
   "metadata": {
    "papermill": {
     "duration": 0.005134,
     "end_time": "2023-07-17T19:40:13.944013",
     "exception": false,
     "start_time": "2023-07-17T19:40:13.938879",
     "status": "completed"
    },
    "tags": []
   },
   "source": [
    "Fit the model"
   ]
  },
  {
   "cell_type": "code",
   "execution_count": 9,
   "id": "05d9496e",
   "metadata": {
    "execution": {
     "iopub.execute_input": "2023-07-17T19:40:13.957602Z",
     "iopub.status.busy": "2023-07-17T19:40:13.956605Z",
     "iopub.status.idle": "2023-07-17T19:40:14.187662Z",
     "shell.execute_reply": "2023-07-17T19:40:14.186193Z"
    },
    "papermill": {
     "duration": 0.240834,
     "end_time": "2023-07-17T19:40:14.190435",
     "exception": false,
     "start_time": "2023-07-17T19:40:13.949601",
     "status": "completed"
    },
    "tags": []
   },
   "outputs": [
    {
     "name": "stdout",
     "output_type": "stream",
     "text": [
      "Your submission was successfully saved!\n"
     ]
    }
   ],
   "source": [
    "# fit the model\n",
    "model.fit(X, y)\n",
    "predictions = model.predict(X_test)\n",
    "\n",
    "output = pd.DataFrame({'PassengerId': test_data.PassengerId, 'Survived': predictions})\n",
    "output.to_csv('submission.csv', index=False)\n",
    "print(\"Your submission was successfully saved!\")"
   ]
  },
  {
   "cell_type": "markdown",
   "id": "37b295c5",
   "metadata": {
    "papermill": {
     "duration": 0.005329,
     "end_time": "2023-07-17T19:40:14.201687",
     "exception": false,
     "start_time": "2023-07-17T19:40:14.196358",
     "status": "completed"
    },
    "tags": []
   },
   "source": [
    "Plot model accuracy"
   ]
  },
  {
   "cell_type": "code",
   "execution_count": 10,
   "id": "45c18178",
   "metadata": {
    "execution": {
     "iopub.execute_input": "2023-07-17T19:40:14.215682Z",
     "iopub.status.busy": "2023-07-17T19:40:14.214611Z",
     "iopub.status.idle": "2023-07-17T19:40:14.220867Z",
     "shell.execute_reply": "2023-07-17T19:40:14.219498Z"
    },
    "papermill": {
     "duration": 0.015887,
     "end_time": "2023-07-17T19:40:14.223239",
     "exception": false,
     "start_time": "2023-07-17T19:40:14.207352",
     "status": "completed"
    },
    "tags": []
   },
   "outputs": [],
   "source": [
    "# show the accuracy of the model"
   ]
  }
 ],
 "metadata": {
  "kernelspec": {
   "display_name": "Python 3",
   "language": "python",
   "name": "python3"
  },
  "language_info": {
   "codemirror_mode": {
    "name": "ipython",
    "version": 3
   },
   "file_extension": ".py",
   "mimetype": "text/x-python",
   "name": "python",
   "nbconvert_exporter": "python",
   "pygments_lexer": "ipython3",
   "version": "3.10.12"
  },
  "papermill": {
   "default_parameters": {},
   "duration": 16.105514,
   "end_time": "2023-07-17T19:40:15.656154",
   "environment_variables": {},
   "exception": null,
   "input_path": "__notebook__.ipynb",
   "output_path": "__notebook__.ipynb",
   "parameters": {},
   "start_time": "2023-07-17T19:39:59.550640",
   "version": "2.4.0"
  }
 },
 "nbformat": 4,
 "nbformat_minor": 5
}
