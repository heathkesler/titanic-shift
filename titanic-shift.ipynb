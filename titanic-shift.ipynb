{
 "cells": [
  {
   "cell_type": "markdown",
   "id": "1fab1b71",
   "metadata": {
    "papermill": {
     "duration": 0.007919,
     "end_time": "2023-07-20T11:07:50.057307",
     "exception": false,
     "start_time": "2023-07-20T11:07:50.049388",
     "status": "completed"
    },
    "tags": []
   },
   "source": [
    "# Import libraries"
   ]
  },
  {
   "cell_type": "code",
   "execution_count": 1,
   "id": "6f7db0ff",
   "metadata": {
    "_cell_guid": "b1076dfc-b9ad-4769-8c92-a6c4dae69d19",
    "_uuid": "8f2839f25d086af736a60e9eeb907d3b93b6e0e5",
    "execution": {
     "iopub.execute_input": "2023-07-20T11:07:50.075451Z",
     "iopub.status.busy": "2023-07-20T11:07:50.074184Z",
     "iopub.status.idle": "2023-07-20T11:07:54.364793Z",
     "shell.execute_reply": "2023-07-20T11:07:54.363843Z"
    },
    "papermill": {
     "duration": 4.302698,
     "end_time": "2023-07-20T11:07:54.367752",
     "exception": false,
     "start_time": "2023-07-20T11:07:50.065054",
     "status": "completed"
    },
    "tags": []
   },
   "outputs": [
    {
     "name": "stderr",
     "output_type": "stream",
     "text": [
      "/opt/conda/lib/python3.10/site-packages/scipy/__init__.py:146: UserWarning: A NumPy version >=1.16.5 and <1.23.0 is required for this version of SciPy (detected version 1.23.5\n",
      "  warnings.warn(f\"A NumPy version >={np_minversion} and <{np_maxversion}\"\n"
     ]
    }
   ],
   "source": [
    "import numpy as np\n",
    "import pandas as pd\n",
    "import torch\n",
    "import matplotlib.pyplot as plt\n",
    "from torch import nn\n",
    "from sklearn.model_selection import train_test_split\n",
    "\n",
    "import os"
   ]
  },
  {
   "cell_type": "markdown",
   "id": "ed9101cb",
   "metadata": {
    "papermill": {
     "duration": 0.007261,
     "end_time": "2023-07-20T11:07:54.384485",
     "exception": false,
     "start_time": "2023-07-20T11:07:54.377224",
     "status": "completed"
    },
    "tags": []
   },
   "source": [
    "# Load Data\n",
    "\n",
    "Read in the csv files\n",
    "\n",
    "The primary goal is to understand the data.  View the data and try to make determinations of how to best assemble the data for analyzing.  \n",
    "\n",
    "1. Read the data and view it\n",
    "2. Determine statistical data\n",
    "3. Understand data types\n",
    "4. Look for and fix data that is erroneous\n",
    "\n"
   ]
  },
  {
   "cell_type": "code",
   "execution_count": 2,
   "id": "6a2830c7",
   "metadata": {
    "execution": {
     "iopub.execute_input": "2023-07-20T11:07:54.400904Z",
     "iopub.status.busy": "2023-07-20T11:07:54.400131Z",
     "iopub.status.idle": "2023-07-20T11:07:54.456331Z",
     "shell.execute_reply": "2023-07-20T11:07:54.455189Z"
    },
    "papermill": {
     "duration": 0.067246,
     "end_time": "2023-07-20T11:07:54.459000",
     "exception": false,
     "start_time": "2023-07-20T11:07:54.391754",
     "status": "completed"
    },
    "tags": []
   },
   "outputs": [
    {
     "data": {
      "text/html": [
       "<div>\n",
       "<style scoped>\n",
       "    .dataframe tbody tr th:only-of-type {\n",
       "        vertical-align: middle;\n",
       "    }\n",
       "\n",
       "    .dataframe tbody tr th {\n",
       "        vertical-align: top;\n",
       "    }\n",
       "\n",
       "    .dataframe thead th {\n",
       "        text-align: right;\n",
       "    }\n",
       "</style>\n",
       "<table border=\"1\" class=\"dataframe\">\n",
       "  <thead>\n",
       "    <tr style=\"text-align: right;\">\n",
       "      <th></th>\n",
       "      <th>PassengerId</th>\n",
       "      <th>Survived</th>\n",
       "      <th>Pclass</th>\n",
       "      <th>Name</th>\n",
       "      <th>Sex</th>\n",
       "      <th>Age</th>\n",
       "      <th>SibSp</th>\n",
       "      <th>Parch</th>\n",
       "      <th>Ticket</th>\n",
       "      <th>Fare</th>\n",
       "      <th>Cabin</th>\n",
       "      <th>Embarked</th>\n",
       "    </tr>\n",
       "  </thead>\n",
       "  <tbody>\n",
       "    <tr>\n",
       "      <th>0</th>\n",
       "      <td>1</td>\n",
       "      <td>0</td>\n",
       "      <td>3</td>\n",
       "      <td>Braund, Mr. Owen Harris</td>\n",
       "      <td>male</td>\n",
       "      <td>22.0</td>\n",
       "      <td>1</td>\n",
       "      <td>0</td>\n",
       "      <td>A/5 21171</td>\n",
       "      <td>7.2500</td>\n",
       "      <td>NaN</td>\n",
       "      <td>S</td>\n",
       "    </tr>\n",
       "    <tr>\n",
       "      <th>1</th>\n",
       "      <td>2</td>\n",
       "      <td>1</td>\n",
       "      <td>1</td>\n",
       "      <td>Cumings, Mrs. John Bradley (Florence Briggs Th...</td>\n",
       "      <td>female</td>\n",
       "      <td>38.0</td>\n",
       "      <td>1</td>\n",
       "      <td>0</td>\n",
       "      <td>PC 17599</td>\n",
       "      <td>71.2833</td>\n",
       "      <td>C85</td>\n",
       "      <td>C</td>\n",
       "    </tr>\n",
       "    <tr>\n",
       "      <th>2</th>\n",
       "      <td>3</td>\n",
       "      <td>1</td>\n",
       "      <td>3</td>\n",
       "      <td>Heikkinen, Miss. Laina</td>\n",
       "      <td>female</td>\n",
       "      <td>26.0</td>\n",
       "      <td>0</td>\n",
       "      <td>0</td>\n",
       "      <td>STON/O2. 3101282</td>\n",
       "      <td>7.9250</td>\n",
       "      <td>NaN</td>\n",
       "      <td>S</td>\n",
       "    </tr>\n",
       "    <tr>\n",
       "      <th>3</th>\n",
       "      <td>4</td>\n",
       "      <td>1</td>\n",
       "      <td>1</td>\n",
       "      <td>Futrelle, Mrs. Jacques Heath (Lily May Peel)</td>\n",
       "      <td>female</td>\n",
       "      <td>35.0</td>\n",
       "      <td>1</td>\n",
       "      <td>0</td>\n",
       "      <td>113803</td>\n",
       "      <td>53.1000</td>\n",
       "      <td>C123</td>\n",
       "      <td>S</td>\n",
       "    </tr>\n",
       "    <tr>\n",
       "      <th>4</th>\n",
       "      <td>5</td>\n",
       "      <td>0</td>\n",
       "      <td>3</td>\n",
       "      <td>Allen, Mr. William Henry</td>\n",
       "      <td>male</td>\n",
       "      <td>35.0</td>\n",
       "      <td>0</td>\n",
       "      <td>0</td>\n",
       "      <td>373450</td>\n",
       "      <td>8.0500</td>\n",
       "      <td>NaN</td>\n",
       "      <td>S</td>\n",
       "    </tr>\n",
       "  </tbody>\n",
       "</table>\n",
       "</div>"
      ],
      "text/plain": [
       "   PassengerId  Survived  Pclass  \\\n",
       "0            1         0       3   \n",
       "1            2         1       1   \n",
       "2            3         1       3   \n",
       "3            4         1       1   \n",
       "4            5         0       3   \n",
       "\n",
       "                                                Name     Sex   Age  SibSp  \\\n",
       "0                            Braund, Mr. Owen Harris    male  22.0      1   \n",
       "1  Cumings, Mrs. John Bradley (Florence Briggs Th...  female  38.0      1   \n",
       "2                             Heikkinen, Miss. Laina  female  26.0      0   \n",
       "3       Futrelle, Mrs. Jacques Heath (Lily May Peel)  female  35.0      1   \n",
       "4                           Allen, Mr. William Henry    male  35.0      0   \n",
       "\n",
       "   Parch            Ticket     Fare Cabin Embarked  \n",
       "0      0         A/5 21171   7.2500   NaN        S  \n",
       "1      0          PC 17599  71.2833   C85        C  \n",
       "2      0  STON/O2. 3101282   7.9250   NaN        S  \n",
       "3      0            113803  53.1000  C123        S  \n",
       "4      0            373450   8.0500   NaN        S  "
      ]
     },
     "execution_count": 2,
     "metadata": {},
     "output_type": "execute_result"
    }
   ],
   "source": [
    "# Get data loaded into this environment for manipulation\n",
    "\n",
    "data = pd.read_csv(\"/kaggle/input/titanic/train.csv\")\n",
    "data.head()"
   ]
  },
  {
   "cell_type": "markdown",
   "id": "eb98593c",
   "metadata": {
    "papermill": {
     "duration": 0.009212,
     "end_time": "2023-07-20T11:07:54.475955",
     "exception": false,
     "start_time": "2023-07-20T11:07:54.466743",
     "status": "completed"
    },
    "tags": []
   },
   "source": []
  },
  {
   "cell_type": "code",
   "execution_count": 3,
   "id": "88a3e022",
   "metadata": {
    "execution": {
     "iopub.execute_input": "2023-07-20T11:07:54.493549Z",
     "iopub.status.busy": "2023-07-20T11:07:54.492451Z",
     "iopub.status.idle": "2023-07-20T11:07:54.517336Z",
     "shell.execute_reply": "2023-07-20T11:07:54.516081Z"
    },
    "papermill": {
     "duration": 0.036327,
     "end_time": "2023-07-20T11:07:54.519941",
     "exception": false,
     "start_time": "2023-07-20T11:07:54.483614",
     "status": "completed"
    },
    "tags": []
   },
   "outputs": [
    {
     "data": {
      "text/html": [
       "<div>\n",
       "<style scoped>\n",
       "    .dataframe tbody tr th:only-of-type {\n",
       "        vertical-align: middle;\n",
       "    }\n",
       "\n",
       "    .dataframe tbody tr th {\n",
       "        vertical-align: top;\n",
       "    }\n",
       "\n",
       "    .dataframe thead th {\n",
       "        text-align: right;\n",
       "    }\n",
       "</style>\n",
       "<table border=\"1\" class=\"dataframe\">\n",
       "  <thead>\n",
       "    <tr style=\"text-align: right;\">\n",
       "      <th></th>\n",
       "      <th>PassengerId</th>\n",
       "      <th>Pclass</th>\n",
       "      <th>Name</th>\n",
       "      <th>Sex</th>\n",
       "      <th>Age</th>\n",
       "      <th>SibSp</th>\n",
       "      <th>Parch</th>\n",
       "      <th>Ticket</th>\n",
       "      <th>Fare</th>\n",
       "      <th>Cabin</th>\n",
       "      <th>Embarked</th>\n",
       "    </tr>\n",
       "  </thead>\n",
       "  <tbody>\n",
       "    <tr>\n",
       "      <th>0</th>\n",
       "      <td>892</td>\n",
       "      <td>3</td>\n",
       "      <td>Kelly, Mr. James</td>\n",
       "      <td>male</td>\n",
       "      <td>34.5</td>\n",
       "      <td>0</td>\n",
       "      <td>0</td>\n",
       "      <td>330911</td>\n",
       "      <td>7.8292</td>\n",
       "      <td>NaN</td>\n",
       "      <td>Q</td>\n",
       "    </tr>\n",
       "    <tr>\n",
       "      <th>1</th>\n",
       "      <td>893</td>\n",
       "      <td>3</td>\n",
       "      <td>Wilkes, Mrs. James (Ellen Needs)</td>\n",
       "      <td>female</td>\n",
       "      <td>47.0</td>\n",
       "      <td>1</td>\n",
       "      <td>0</td>\n",
       "      <td>363272</td>\n",
       "      <td>7.0000</td>\n",
       "      <td>NaN</td>\n",
       "      <td>S</td>\n",
       "    </tr>\n",
       "    <tr>\n",
       "      <th>2</th>\n",
       "      <td>894</td>\n",
       "      <td>2</td>\n",
       "      <td>Myles, Mr. Thomas Francis</td>\n",
       "      <td>male</td>\n",
       "      <td>62.0</td>\n",
       "      <td>0</td>\n",
       "      <td>0</td>\n",
       "      <td>240276</td>\n",
       "      <td>9.6875</td>\n",
       "      <td>NaN</td>\n",
       "      <td>Q</td>\n",
       "    </tr>\n",
       "    <tr>\n",
       "      <th>3</th>\n",
       "      <td>895</td>\n",
       "      <td>3</td>\n",
       "      <td>Wirz, Mr. Albert</td>\n",
       "      <td>male</td>\n",
       "      <td>27.0</td>\n",
       "      <td>0</td>\n",
       "      <td>0</td>\n",
       "      <td>315154</td>\n",
       "      <td>8.6625</td>\n",
       "      <td>NaN</td>\n",
       "      <td>S</td>\n",
       "    </tr>\n",
       "    <tr>\n",
       "      <th>4</th>\n",
       "      <td>896</td>\n",
       "      <td>3</td>\n",
       "      <td>Hirvonen, Mrs. Alexander (Helga E Lindqvist)</td>\n",
       "      <td>female</td>\n",
       "      <td>22.0</td>\n",
       "      <td>1</td>\n",
       "      <td>1</td>\n",
       "      <td>3101298</td>\n",
       "      <td>12.2875</td>\n",
       "      <td>NaN</td>\n",
       "      <td>S</td>\n",
       "    </tr>\n",
       "  </tbody>\n",
       "</table>\n",
       "</div>"
      ],
      "text/plain": [
       "   PassengerId  Pclass                                          Name     Sex  \\\n",
       "0          892       3                              Kelly, Mr. James    male   \n",
       "1          893       3              Wilkes, Mrs. James (Ellen Needs)  female   \n",
       "2          894       2                     Myles, Mr. Thomas Francis    male   \n",
       "3          895       3                              Wirz, Mr. Albert    male   \n",
       "4          896       3  Hirvonen, Mrs. Alexander (Helga E Lindqvist)  female   \n",
       "\n",
       "    Age  SibSp  Parch   Ticket     Fare Cabin Embarked  \n",
       "0  34.5      0      0   330911   7.8292   NaN        Q  \n",
       "1  47.0      1      0   363272   7.0000   NaN        S  \n",
       "2  62.0      0      0   240276   9.6875   NaN        Q  \n",
       "3  27.0      0      0   315154   8.6625   NaN        S  \n",
       "4  22.0      1      1  3101298  12.2875   NaN        S  "
      ]
     },
     "execution_count": 3,
     "metadata": {},
     "output_type": "execute_result"
    }
   ],
   "source": [
    "# Load test data\n",
    "test_data = pd.read_csv(\"/kaggle/input/titanic/test.csv\")\n",
    "test_data.head()"
   ]
  },
  {
   "cell_type": "code",
   "execution_count": 4,
   "id": "014550d8",
   "metadata": {
    "execution": {
     "iopub.execute_input": "2023-07-20T11:07:54.537847Z",
     "iopub.status.busy": "2023-07-20T11:07:54.537467Z",
     "iopub.status.idle": "2023-07-20T11:07:54.551179Z",
     "shell.execute_reply": "2023-07-20T11:07:54.549836Z"
    },
    "papermill": {
     "duration": 0.025421,
     "end_time": "2023-07-20T11:07:54.553432",
     "exception": false,
     "start_time": "2023-07-20T11:07:54.528011",
     "status": "completed"
    },
    "tags": []
   },
   "outputs": [
    {
     "name": "stdout",
     "output_type": "stream",
     "text": [
      "% of women who survived: 0.7420382165605095\n",
      "% of men who survived: 0.18890814558058924\n"
     ]
    }
   ],
   "source": [
    "women = data.loc[data.Sex == 'female'][\"Survived\"]\n",
    "rate_women = sum(women)/len(women)\n",
    "\n",
    "print(\"% of women who survived:\", rate_women)\n",
    "\n",
    "men = data.loc[data.Sex == 'male'][\"Survived\"]\n",
    "rate_men = sum(men)/len(men)\n",
    "\n",
    "print(\"% of men who survived:\", rate_men)"
   ]
  },
  {
   "cell_type": "markdown",
   "id": "319b2857",
   "metadata": {
    "papermill": {
     "duration": 0.007845,
     "end_time": "2023-07-20T11:07:54.569266",
     "exception": false,
     "start_time": "2023-07-20T11:07:54.561421",
     "status": "completed"
    },
    "tags": []
   },
   "source": [
    "# Feature Encoding\n",
    "\n",
    "Since Neural Networks work with numerical data, we need to encode categorical features into numeric representations."
   ]
  },
  {
   "cell_type": "code",
   "execution_count": 5,
   "id": "74e99dc6",
   "metadata": {
    "execution": {
     "iopub.execute_input": "2023-07-20T11:07:54.587207Z",
     "iopub.status.busy": "2023-07-20T11:07:54.586461Z",
     "iopub.status.idle": "2023-07-20T11:07:54.591616Z",
     "shell.execute_reply": "2023-07-20T11:07:54.590522Z"
    },
    "papermill": {
     "duration": 0.016788,
     "end_time": "2023-07-20T11:07:54.594031",
     "exception": false,
     "start_time": "2023-07-20T11:07:54.577243",
     "status": "completed"
    },
    "tags": []
   },
   "outputs": [],
   "source": [
    "# Add code to breakdown data and visualize it."
   ]
  },
  {
   "cell_type": "markdown",
   "id": "d0d40f65",
   "metadata": {
    "papermill": {
     "duration": 0.007709,
     "end_time": "2023-07-20T11:07:54.609904",
     "exception": false,
     "start_time": "2023-07-20T11:07:54.602195",
     "status": "completed"
    },
    "tags": []
   },
   "source": [
    "# Data Normalization\n",
    "\n",
    "To ensure efficient training, we'll normalize numerical features to bring them to a similar scale."
   ]
  },
  {
   "cell_type": "code",
   "execution_count": 6,
   "id": "8b73c4e4",
   "metadata": {
    "execution": {
     "iopub.execute_input": "2023-07-20T11:07:54.627590Z",
     "iopub.status.busy": "2023-07-20T11:07:54.627168Z",
     "iopub.status.idle": "2023-07-20T11:07:54.632071Z",
     "shell.execute_reply": "2023-07-20T11:07:54.630801Z"
    },
    "papermill": {
     "duration": 0.016476,
     "end_time": "2023-07-20T11:07:54.634332",
     "exception": false,
     "start_time": "2023-07-20T11:07:54.617856",
     "status": "completed"
    },
    "tags": []
   },
   "outputs": [],
   "source": [
    "# Add code to normalize the data "
   ]
  },
  {
   "cell_type": "markdown",
   "id": "ca81e13d",
   "metadata": {
    "papermill": {
     "duration": 0.007807,
     "end_time": "2023-07-20T11:07:54.650470",
     "exception": false,
     "start_time": "2023-07-20T11:07:54.642663",
     "status": "completed"
    },
    "tags": []
   },
   "source": [
    "# Preprocess Data Functions"
   ]
  },
  {
   "cell_type": "code",
   "execution_count": 7,
   "id": "13ee74ba",
   "metadata": {
    "execution": {
     "iopub.execute_input": "2023-07-20T11:07:54.669293Z",
     "iopub.status.busy": "2023-07-20T11:07:54.668520Z",
     "iopub.status.idle": "2023-07-20T11:07:54.677794Z",
     "shell.execute_reply": "2023-07-20T11:07:54.676920Z"
    },
    "papermill": {
     "duration": 0.021077,
     "end_time": "2023-07-20T11:07:54.680083",
     "exception": false,
     "start_time": "2023-07-20T11:07:54.659006",
     "status": "completed"
    },
    "tags": []
   },
   "outputs": [],
   "source": [
    "def preprocess(df):\n",
    "    df['Age'].fillna(0, inplace=True)\n",
    "    features = [\"Pclass\", \"Sex\", \"SibSp\", \"Parch\", \"Age\"]\n",
    "    df = pd.get_dummies(df[features])\n",
    "    return df\n",
    "\n",
    "def get_dataframes(df, test_data=False):\n",
    "    # Split data into training and validation\n",
    "    if (test_data == False):\n",
    "\n",
    "        train_df, val_df = train_test_split(df, test_size=0.2, shuffle = True)\n",
    "        #train_df = df\n",
    "        #val_df = df\n",
    "\n",
    "        # Get labels\n",
    "        y_train = train_df[[\"Survived\"]].copy()\n",
    "        y_val = val_df[['Survived']].copy()\n",
    "\n",
    "        # Replace Nan ages with 0\n",
    "        train_df = preprocess(train_df)\n",
    "        val_df = preprocess(val_df)\n",
    "        return train_df, val_df, y_train, y_val\n",
    "    else:\n",
    "        test_df = preprocess(df)\n",
    "        return test_df"
   ]
  },
  {
   "cell_type": "markdown",
   "id": "6e8526c8",
   "metadata": {
    "papermill": {
     "duration": 0.008179,
     "end_time": "2023-07-20T11:07:54.696644",
     "exception": false,
     "start_time": "2023-07-20T11:07:54.688465",
     "status": "completed"
    },
    "tags": []
   },
   "source": [
    "# Define the datasets\n",
    "\n",
    "Before training the Neural Network, we need to split the dataset into training and testing sets."
   ]
  },
  {
   "cell_type": "code",
   "execution_count": 8,
   "id": "2902605b",
   "metadata": {
    "execution": {
     "iopub.execute_input": "2023-07-20T11:07:54.714817Z",
     "iopub.status.busy": "2023-07-20T11:07:54.714181Z",
     "iopub.status.idle": "2023-07-20T11:07:54.741974Z",
     "shell.execute_reply": "2023-07-20T11:07:54.741171Z"
    },
    "papermill": {
     "duration": 0.039842,
     "end_time": "2023-07-20T11:07:54.744474",
     "exception": false,
     "start_time": "2023-07-20T11:07:54.704632",
     "status": "completed"
    },
    "tags": []
   },
   "outputs": [
    {
     "name": "stdout",
     "output_type": "stream",
     "text": [
      "The shape of data:\n",
      "\n",
      "1) training: (712, 6)\n",
      "2) validation: (179, 6)\n",
      "3) testing: (418, 11)\n",
      "4) y_train: (712, 1)\n",
      "5) y_val: (179, 1)\n",
      "\n",
      "   PassengerId  Survived  Pclass  \\\n",
      "0            1         0       3   \n",
      "1            2         1       1   \n",
      "2            3         1       3   \n",
      "3            4         1       1   \n",
      "4            5         0       3   \n",
      "\n",
      "                                                Name     Sex   Age  SibSp  \\\n",
      "0                            Braund, Mr. Owen Harris    male  22.0      1   \n",
      "1  Cumings, Mrs. John Bradley (Florence Briggs Th...  female  38.0      1   \n",
      "2                             Heikkinen, Miss. Laina  female  26.0      0   \n",
      "3       Futrelle, Mrs. Jacques Heath (Lily May Peel)  female  35.0      1   \n",
      "4                           Allen, Mr. William Henry    male  35.0      0   \n",
      "\n",
      "   Parch            Ticket     Fare Cabin Embarked  \n",
      "0      0         A/5 21171   7.2500   NaN        S  \n",
      "1      0          PC 17599  71.2833   C85        C  \n",
      "2      0  STON/O2. 3101282   7.9250   NaN        S  \n",
      "3      0            113803  53.1000  C123        S  \n",
      "4      0            373450   8.0500   NaN        S  \n"
     ]
    }
   ],
   "source": [
    "df = data\n",
    "test_df = test_data\n",
    "\n",
    "train_df, val_df, y_train, y_val = get_dataframes(df)\n",
    "test_proc_df = get_dataframes(test_df, test_data=True)\n",
    "\n",
    "\n",
    "print(f'''The shape of data:\\n\n",
    "1) training: {train_df.shape}\n",
    "2) validation: {val_df.shape}\n",
    "3) testing: {test_df.shape}\n",
    "4) y_train: {y_train.shape}\n",
    "5) y_val: {y_val.shape}\n",
    "''')\n",
    "print(df.head())"
   ]
  },
  {
   "cell_type": "markdown",
   "id": "14d3656d",
   "metadata": {
    "papermill": {
     "duration": 0.008059,
     "end_time": "2023-07-20T11:07:54.760776",
     "exception": false,
     "start_time": "2023-07-20T11:07:54.752717",
     "status": "completed"
    },
    "tags": []
   },
   "source": [
    "# Create Tensors for Torch"
   ]
  },
  {
   "cell_type": "code",
   "execution_count": 9,
   "id": "4d525d2d",
   "metadata": {
    "execution": {
     "iopub.execute_input": "2023-07-20T11:07:54.779352Z",
     "iopub.status.busy": "2023-07-20T11:07:54.778725Z",
     "iopub.status.idle": "2023-07-20T11:07:54.804043Z",
     "shell.execute_reply": "2023-07-20T11:07:54.803012Z"
    },
    "papermill": {
     "duration": 0.037893,
     "end_time": "2023-07-20T11:07:54.806907",
     "exception": false,
     "start_time": "2023-07-20T11:07:54.769014",
     "status": "completed"
    },
    "tags": []
   },
   "outputs": [],
   "source": [
    "train_tensor = torch.tensor(train_df.values.tolist())\n",
    "val_tensor = torch.tensor(val_df.values.tolist())\n",
    "y_train_tensor = torch.tensor(y_train.values.tolist())\n",
    "y_val_tensor = torch.tensor(y_val.values.tolist())"
   ]
  },
  {
   "cell_type": "markdown",
   "id": "0a95bf22",
   "metadata": {
    "papermill": {
     "duration": 0.008003,
     "end_time": "2023-07-20T11:07:54.823145",
     "exception": false,
     "start_time": "2023-07-20T11:07:54.815142",
     "status": "completed"
    },
    "tags": []
   },
   "source": [
    "# Define the NN"
   ]
  },
  {
   "cell_type": "code",
   "execution_count": 10,
   "id": "f875830e",
   "metadata": {
    "execution": {
     "iopub.execute_input": "2023-07-20T11:07:54.841969Z",
     "iopub.status.busy": "2023-07-20T11:07:54.841004Z",
     "iopub.status.idle": "2023-07-20T11:07:54.850584Z",
     "shell.execute_reply": "2023-07-20T11:07:54.849756Z"
    },
    "papermill": {
     "duration": 0.02135,
     "end_time": "2023-07-20T11:07:54.852875",
     "exception": false,
     "start_time": "2023-07-20T11:07:54.831525",
     "status": "completed"
    },
    "tags": []
   },
   "outputs": [],
   "source": [
    "\n",
    "def get_accuracy(outputs, y):\n",
    "    predicted = np.where(outputs < 0.5, 0, 1)\n",
    "    accuracy = np.mean( predicted == y.to_numpy())\n",
    "    return accuracy\n",
    "\n",
    "class NeuralNetwork(nn.Module):\n",
    "    def __init__(self, input_dim, hidden_dim1, hidden_dim2, output_dim):\n",
    "        super(NeuralNetwork, self).__init__()\n",
    "        self.fc1 = nn.Linear(input_dim, hidden_dim1)\n",
    "        self.relu1 = nn.ReLU()\n",
    "        self.dropout1 = nn.Dropout(0.3)\n",
    "        self.fc2 = nn.Linear(hidden_dim1, hidden_dim2)\n",
    "        self.relu2 = nn.ReLU()\n",
    "        self.dropout2 = nn.Dropout(0.3)\n",
    "        self.fc3 = nn.Linear(hidden_dim2, output_dim)\n",
    "        self.sigmoid = nn.Sigmoid()\n",
    "\n",
    "    def forward(self, x):\n",
    "        x = self.fc1(x)\n",
    "        x = self.relu1(x)\n",
    "        x = self.dropout1(x)\n",
    "        x = self.fc2(x)\n",
    "        x = self.relu2(x)\n",
    "        x = self.dropout2(x)\n",
    "        x = self.fc3(x)\n",
    "        x = self.sigmoid(x)\n",
    "        return x"
   ]
  },
  {
   "cell_type": "markdown",
   "id": "0e6edeed",
   "metadata": {
    "papermill": {
     "duration": 0.008005,
     "end_time": "2023-07-20T11:07:54.869136",
     "exception": false,
     "start_time": "2023-07-20T11:07:54.861131",
     "status": "completed"
    },
    "tags": []
   },
   "source": [
    "# Define NN layers"
   ]
  },
  {
   "cell_type": "code",
   "execution_count": 11,
   "id": "9544de01",
   "metadata": {
    "execution": {
     "iopub.execute_input": "2023-07-20T11:07:54.887778Z",
     "iopub.status.busy": "2023-07-20T11:07:54.887172Z",
     "iopub.status.idle": "2023-07-20T11:07:54.909791Z",
     "shell.execute_reply": "2023-07-20T11:07:54.908262Z"
    },
    "papermill": {
     "duration": 0.034891,
     "end_time": "2023-07-20T11:07:54.912242",
     "exception": false,
     "start_time": "2023-07-20T11:07:54.877351",
     "status": "completed"
    },
    "tags": []
   },
   "outputs": [
    {
     "name": "stdout",
     "output_type": "stream",
     "text": [
      "NeuralNetwork(\n",
      "  (fc1): Linear(in_features=6, out_features=32, bias=True)\n",
      "  (relu1): ReLU()\n",
      "  (dropout1): Dropout(p=0.3, inplace=False)\n",
      "  (fc2): Linear(in_features=32, out_features=16, bias=True)\n",
      "  (relu2): ReLU()\n",
      "  (dropout2): Dropout(p=0.3, inplace=False)\n",
      "  (fc3): Linear(in_features=16, out_features=1, bias=True)\n",
      "  (sigmoid): Sigmoid()\n",
      ")\n"
     ]
    }
   ],
   "source": [
    "input_dim = train_tensor.shape[1]\n",
    "hidden_dim1 = 32\n",
    "hidden_dim2 = 16\n",
    "output_dim = 1\n",
    "\n",
    "# Define model\n",
    "model = NeuralNetwork(input_dim, hidden_dim1, hidden_dim2, output_dim)\n",
    "print(model)"
   ]
  },
  {
   "cell_type": "code",
   "execution_count": 12,
   "id": "b0f2b499",
   "metadata": {
    "execution": {
     "iopub.execute_input": "2023-07-20T11:07:54.931361Z",
     "iopub.status.busy": "2023-07-20T11:07:54.930569Z",
     "iopub.status.idle": "2023-07-20T11:08:28.439333Z",
     "shell.execute_reply": "2023-07-20T11:08:28.438391Z"
    },
    "papermill": {
     "duration": 33.521629,
     "end_time": "2023-07-20T11:08:28.442326",
     "exception": false,
     "start_time": "2023-07-20T11:07:54.920697",
     "status": "completed"
    },
    "tags": []
   },
   "outputs": [
    {
     "name": "stdout",
     "output_type": "stream",
     "text": [
      "Epoch:    0 Loss: 1.60 Acc: 0.6152 ValAcc: 0.6201\n",
      "Saving best model\n",
      "Epoch: 1000 Loss: 0.65 Acc: 0.6278 ValAcc: 0.5978\n",
      "Epoch: 2000 Loss: 0.60 Acc: 0.6475 ValAcc: 0.6425\n",
      "Saving best model\n",
      "Epoch: 3000 Loss: 0.52 Acc: 0.7654 ValAcc: 0.8101\n",
      "Saving best model\n",
      "Epoch: 4000 Loss: 0.48 Acc: 0.7823 ValAcc: 0.7821\n",
      "Epoch: 5000 Loss: 0.48 Acc: 0.7992 ValAcc: 0.8212\n",
      "Saving best model\n",
      "Epoch: 6000 Loss: 0.46 Acc: 0.8006 ValAcc: 0.8101\n",
      "Epoch: 7000 Loss: 0.43 Acc: 0.8244 ValAcc: 0.8156\n",
      "Epoch: 8000 Loss: 0.44 Acc: 0.8202 ValAcc: 0.8212\n",
      "Epoch: 9000 Loss: 0.42 Acc: 0.8272 ValAcc: 0.7989\n",
      "Epoch: 10000 Loss: 0.43 Acc: 0.8244 ValAcc: 0.8268\n",
      "Saving best model\n",
      "Epoch: 11000 Loss: 0.43 Acc: 0.8258 ValAcc: 0.8156\n",
      "Epoch: 12000 Loss: 0.42 Acc: 0.8329 ValAcc: 0.8212\n",
      "Epoch: 13000 Loss: 0.41 Acc: 0.8272 ValAcc: 0.8101\n",
      "Epoch: 14000 Loss: 0.42 Acc: 0.8244 ValAcc: 0.8156\n",
      "Epoch: 15000 Loss: 0.43 Acc: 0.8343 ValAcc: 0.8156\n",
      "Epoch: 16000 Loss: 0.41 Acc: 0.8385 ValAcc: 0.8101\n",
      "Epoch: 17000 Loss: 0.40 Acc: 0.8385 ValAcc: 0.8045\n",
      "Epoch: 18000 Loss: 0.41 Acc: 0.8371 ValAcc: 0.8156\n",
      "Epoch: 19000 Loss: 0.42 Acc: 0.8315 ValAcc: 0.8156\n",
      "Training Complete\n"
     ]
    }
   ],
   "source": [
    "\n",
    "learning_rate = 0.0001\n",
    "loss_fn = nn.BCELoss()\n",
    "optimizer = torch.optim.Adam(model.parameters(), lr=learning_rate)\n",
    "#optimizer = torch.optim.SGD(model.parameters(), lr=learning_rate)\n",
    "\n",
    "num_epochs = 20000\n",
    "loss_values = []\n",
    "acc_values = []\n",
    "best_vacc = 0\n",
    "for epoch in range(num_epochs):\n",
    "    X = train_tensor.float()\n",
    "    y = y_train_tensor.float()\n",
    "\n",
    "    # zero the parameter gradients\n",
    "    optimizer.zero_grad()\n",
    "\n",
    "    # forward + backward + optimize\n",
    "    pred = model(X)\n",
    "    acc = get_accuracy(pred, y_train)\n",
    "    acc_values.append(acc)\n",
    "    loss = loss_fn(pred, y)\n",
    "    loss_values.append(loss.item())\n",
    "    loss.backward()\n",
    "    optimizer.step()\n",
    "\n",
    "    if (epoch % 1000 == 0):\n",
    "        with torch.no_grad():\n",
    "            X = val_tensor.float()\n",
    "            y = y_val_tensor.float()\n",
    "            outputs = model(X)\n",
    "            vacc=get_accuracy(outputs,y_val)\n",
    "            print(\"Epoch: {epoch:4.0f} Loss: {loss:3.2f} Acc: {acc:3.4f} ValAcc: {vacc:3.4f}\".format(\n",
    "                epoch=epoch,\n",
    "                loss=loss.item(),\n",
    "                acc=get_accuracy(pred,y_train),\n",
    "                vacc=vacc\n",
    "            ))\n",
    "            if (best_vacc < vacc):\n",
    "                print(\"Saving best model\")\n",
    "                best_vacc = vacc\n",
    "                torch.save(model.state_dict(), \"best_model.pt\")\n",
    "\n",
    "print(\"Training Complete\")"
   ]
  },
  {
   "cell_type": "markdown",
   "id": "62a2617d",
   "metadata": {
    "papermill": {
     "duration": 0.014083,
     "end_time": "2023-07-20T11:08:28.470959",
     "exception": false,
     "start_time": "2023-07-20T11:08:28.456876",
     "status": "completed"
    },
    "tags": []
   },
   "source": [
    "Fit the model"
   ]
  },
  {
   "cell_type": "code",
   "execution_count": 13,
   "id": "15bd000b",
   "metadata": {
    "execution": {
     "iopub.execute_input": "2023-07-20T11:08:28.496399Z",
     "iopub.status.busy": "2023-07-20T11:08:28.495727Z",
     "iopub.status.idle": "2023-07-20T11:08:29.264390Z",
     "shell.execute_reply": "2023-07-20T11:08:29.263122Z"
    },
    "papermill": {
     "duration": 0.784086,
     "end_time": "2023-07-20T11:08:29.267262",
     "exception": false,
     "start_time": "2023-07-20T11:08:28.483176",
     "status": "completed"
    },
    "tags": []
   },
   "outputs": [
    {
     "data": {
      "image/png": "[encoded data removed]",
      "text/plain": [
       "<Figure size 800x500 with 1 Axes>"
      ]
     },
     "metadata": {},
     "output_type": "display_data"
    },
    {
     "data": {
      "image/png": "[encoded data removed]",
      "text/plain": [
       "<Figure size 800x500 with 1 Axes>"
      ]
     },
     "metadata": {},
     "output_type": "display_data"
    },
    {
     "name": "stdout",
     "output_type": "stream",
     "text": [
      "Validation Predicted correct = 80.45%\n",
      "Your submission was successfully saved!\n"
     ]
    }
   ],
   "source": [
    "step = np.linspace(0, num_epochs, num_epochs)\n",
    "plt.subplots(figsize=(8,5))\n",
    "plt.plot(step, np.array(loss_values))\n",
    "plt.title(\"Loss\")\n",
    "plt.xlabel(\"Epochs\")\n",
    "plt.ylabel(\"Loss\")\n",
    "plt.show()\n",
    "\n",
    "step = np.linspace(0, num_epochs, num_epochs)\n",
    "plt.subplots(figsize=(8,5))\n",
    "plt.plot(step, np.array(acc_values))\n",
    "plt.title(\"Accuracy\")\n",
    "plt.xlabel(\"Epochs\")\n",
    "plt.ylabel(\"Accuracy\")\n",
    "plt.show()\n",
    "\n",
    "with torch.no_grad():\n",
    "    best_model = NeuralNetwork(input_dim, hidden_dim1, hidden_dim2, output_dim)\n",
    "    best_model.load_state_dict(torch.load(\"best_model.pt\"))\n",
    "    X = val_tensor.float()\n",
    "    y = y_val_tensor.float()\n",
    "    outputs = best_model(X)\n",
    "    acc = get_accuracy(outputs, y_val)\n",
    "    print(\"Validation Predicted correct = {pred:3.2f}%\".format(pred = acc * 100))\n",
    "\n",
    "    test_tensor = torch.tensor(test_proc_df.values.tolist())\n",
    "    predictions = best_model(test_tensor)\n",
    "    predicted = np.where(predictions < 0.5, 0, 1)\n",
    "\n",
    "    output = pd.DataFrame({'PassengerId': test_df.PassengerId, 'Survived': predicted.flatten()})\n",
    "    output.to_csv('submission.csv', index=False)\n",
    "    print(\"Your submission was successfully saved!\")"
   ]
  }
 ],
 "metadata": {
  "kernelspec": {
   "display_name": "Python 3",
   "language": "python",
   "name": "python3"
  },
  "language_info": {
   "codemirror_mode": {
    "name": "ipython",
    "version": 3
   },
   "file_extension": ".py",
   "mimetype": "text/x-python",
   "name": "python",
   "nbconvert_exporter": "python",
   "pygments_lexer": "ipython3",
   "version": "3.10.12"
  },
  "papermill": {
   "default_parameters": {},
   "duration": 51.679591,
   "end_time": "2023-07-20T11:08:30.702629",
   "environment_variables": {},
   "exception": null,
   "input_path": "__notebook__.ipynb",
   "output_path": "__notebook__.ipynb",
   "parameters": {},
   "start_time": "2023-07-20T11:07:39.023038",
   "version": "2.4.0"
  }
 },
 "nbformat": 4,
 "nbformat_minor": 5
}
